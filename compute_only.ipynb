{
 "cells": [
  {
   "cell_type": "code",
   "execution_count": 1,
   "metadata": {},
   "outputs": [],
   "source": [
    "import numpy as np\n",
    "import pandas as pd\n",
    "import plotly.express as px\n",
    "import seaborn as sns\n",
    "import matplotlib.pyplot as plt\n",
    "import xgboost as xgb\n",
    "import sklearn.model_selection\n",
    "import time\n",
    "import pickle\n",
    "#import antigravity\n",
    "import random\n",
    "random.seed()\n",
    "import sklearn.neural_network"
   ]
  },
  {
   "cell_type": "code",
   "execution_count": 2,
   "metadata": {},
   "outputs": [
    {
     "data": {
      "text/plain": [
       "(2919, 91)"
      ]
     },
     "execution_count": 2,
     "metadata": {},
     "output_type": "execute_result"
    }
   ],
   "source": [
    "data_train_path = 'data\\\\train.csv'\n",
    "data_test_path = 'data\\\\test.csv'\n",
    "src_data_train = pd.read_csv(data_train_path)\n",
    "src_data_test = pd.read_csv(data_test_path)\n",
    "src_data_test['SalePrice']=np.NaN # training target is denoted by NaN\n",
    "source_data = pd.concat((src_data_train,src_data_test))\n",
    "source_data=source_data.set_index('Id')\n",
    "rows_test=np.where(np.isnan(source_data['SalePrice']))[0]\n",
    "rows_train=np.where(~np.isnan(source_data['SalePrice']))[0]\n",
    "\n",
    "p_target_basic = pd.DataFrame(source_data['SalePrice'])\n",
    "with open('target_transformer.pickle','rb') as f:\n",
    "    pr_target_pipe = pickle.load(f)\n",
    "    \n",
    "p_data = pd.read_pickle('p_data.pickle')\n",
    "pr_target_log = pd.read_pickle('p_target_transformed.pickle')\n",
    "p_data.shape"
   ]
  },
  {
   "cell_type": "code",
   "execution_count": 4,
   "metadata": {},
   "outputs": [
    {
     "name": "stdout",
     "output_type": "stream",
     "text": [
      "best error(by chance): 10325.72; best config is with max. error 19003.04 for depth=4, rounds=72, eta=0.2, subsampling = 1.0;  typical error: 32928.51 ±13506.2\n"
     ]
    }
   ],
   "source": [
    "grid_depths=[2, 3, 4, 5, 6, 7, 8, 9, 10, 11, 12, 13, 14]\n",
    "grid_eta=[0.1, 0.2, 0.3, 0.4, 0.5, 0.6, 0.7, 0.8, 0.9, 1.0]\n",
    "grid_rounds=np.int32(np.logspace(np.log10(5.0),np.log10(150),15))\n",
    "grid_internal_subsampling=[0.95, 0.97, 0.99, 1.0]\n",
    "\n",
    "# grid_depths=[6,7,8,9,10]\n",
    "# grid_eta=[0.2,0.4,0.6]\n",
    "# grid_rounds=np.int32(np.logspace(np.log10(5.0),np.log10(150),4))\n",
    "# grid_internal_subsampling=[1.0]\n",
    "\n",
    "validation_errors=[]\n",
    "best_config_validation_error=999999\n",
    "t_learning_costs=[]\n",
    "\n",
    "t_etas=[]\n",
    "t_depths=[]\n",
    "t_rounds=[]\n",
    "t_subsamplings=[]\n",
    "\n",
    "best_depth=np.NaN;\n",
    "best_rounds=np.NaN;\n",
    "best_eta=np.NaN;\n",
    "best_subsampling = np.NaN;\n",
    "\n",
    "random.seed(0)    \n",
    "\n",
    "if 1==0:\n",
    "    pass\n",
    "\n",
    "for local_subsampling in grid_internal_subsampling:\n",
    "    for local_depth in grid_depths:\n",
    "        for local_eta in grid_eta:        \n",
    "            for local_rounds in grid_rounds:\n",
    "                local_parameters = {\n",
    "                    'max_depth':local_depth,\n",
    "                    'eta':local_eta, \n",
    "                    'objective':'reg:squarederror',\n",
    "                    'subsample':local_subsampling }\n",
    "                        \n",
    "                rs = sklearn.model_selection.ShuffleSplit(n_splits=4, test_size=0.02, random_state=random.randint(1,1024))                \n",
    "                # concept: do a few splits and record worst validation error for these splits. This is to make sure I am not overfitting.\n",
    "                this_config_errors=[]\n",
    "                for train_index, validation_index in rs.split(rows_train):\n",
    "                    xgb_train = xgb.DMatrix(p_data.iloc[train_index], label=pr_target_log.iloc[train_index])\n",
    "                    xgb_validation = xgb.DMatrix(p_data.iloc[validation_index],label=pr_target_log.iloc[validation_index])\n",
    "                    validation_target_values = pr_target_log.iloc[validation_index]['SalePrice'].values.reshape(-1, 1)\n",
    "                    t0=time.perf_counter_ns()\n",
    "                    bst = xgb.train(local_parameters, xgb_train, local_rounds)    \n",
    "                    validation_prediction = bst.predict(xgb_validation).reshape(-1, 1)\n",
    "                    t_learning_cost=time.perf_counter_ns()-t0\n",
    "                    # before we can get the validation error, untransform the target\n",
    "                    validation_error=np.sqrt(np.mean(np.square(pr_target_pipe.inverse_transform(validation_target_values)-pr_target_pipe.inverse_transform(validation_prediction))))    \n",
    "\n",
    "                    validation_errors.append(validation_error)                \n",
    "                    t_learning_costs.append(t_learning_cost)\n",
    "                    t_etas.append(local_eta)\n",
    "                    t_depths.append(local_depth)\n",
    "                    t_rounds.append(local_rounds)\n",
    "                    t_subsamplings.append(local_subsampling)\n",
    "                    this_config_errors.append(validation_error)\n",
    "                \n",
    "                worst_error_for_this_config=np.max(this_config_errors)\n",
    "                if worst_error_for_this_config<best_config_validation_error:\n",
    "                        best_config_validation_error=worst_error_for_this_config\n",
    "                        best_depth=local_depth\n",
    "                        best_rounds=local_rounds\n",
    "                        best_eta=local_eta\n",
    "                        best_subsampling = local_subsampling\n",
    "\n",
    "                    \n",
    "                \n",
    "\n",
    "min_error=np.min(validation_errors);\n",
    "max_error=np.max(validation_errors);\n",
    "mean_error=np.mean(validation_errors)\n",
    "std_error=np.std(validation_errors)\n",
    "print(f'best error(by chance): {min_error:0.2f}; best config is with max. error {best_config_validation_error:0.2f} for depth={best_depth}, rounds={best_rounds}, eta={best_eta}, subsampling = {best_subsampling};  typical error: {mean_error:0.2f} ±{std_error:0.1f}')     \n",
    "    "
   ]
  },
  {
   "cell_type": "code",
   "execution_count": 6,
   "metadata": {},
   "outputs": [
    {
     "data": {
      "image/png": "[encoded data removed]",
      "text/plain": [
       "<Figure size 432x288 with 1 Axes>"
      ]
     },
     "metadata": {
      "needs_background": "light"
     },
     "output_type": "display_data"
    },
    {
     "data": {
      "image/png": "[encoded data removed]",
      "text/plain": [
       "<Figure size 432x288 with 1 Axes>"
      ]
     },
     "metadata": {
      "needs_background": "light"
     },
     "output_type": "display_data"
    },
    {
     "data": {
      "image/png": "[encoded data removed]",
      "text/plain": [
       "<Figure size 432x288 with 1 Axes>"
      ]
     },
     "metadata": {
      "needs_background": "light"
     },
     "output_type": "display_data"
    },
    {
     "data": {
      "image/png": "[encoded data removed]",
      "text/plain": [
       "<Figure size 432x288 with 1 Axes>"
      ]
     },
     "metadata": {
      "needs_background": "light"
     },
     "output_type": "display_data"
    },
    {
     "data": {
      "image/png": "[encoded data removed]",
      "text/plain": [
       "<Figure size 432x288 with 1 Axes>"
      ]
     },
     "metadata": {
      "needs_background": "light"
     },
     "output_type": "display_data"
    }
   ],
   "source": [
    "display_err_min=8000\n",
    "display_err_max=33000\n",
    "plt.scatter(validation_errors,np.array(t_learning_costs)*1e-9)\n",
    "plt.xlabel('validation error[USD]')\n",
    "plt.ylabel('training cost[seconds]')\n",
    "plt.ylim(0,0.04)\n",
    "plt.xlim(display_err_min,display_err_max)\n",
    "plt.title('training cost[sec]')\n",
    "plt.show()\n",
    "\n",
    "plt.scatter(validation_errors,t_etas)\n",
    "plt.xlabel('validation error[USD]')\n",
    "plt.ylabel('parameter: eta')\n",
    "plt.title('selection of ETA')\n",
    "plt.xlim(display_err_min,display_err_max)\n",
    "plt.show()\n",
    "\n",
    "plt.scatter(validation_errors,t_depths)\n",
    "plt.xlabel('validation error[USD]')\n",
    "plt.ylabel('parameter: t_depth')\n",
    "plt.title('selection of forrest depth')\n",
    "plt.xlim(display_err_min,display_err_max)\n",
    "plt.show()\n",
    "\n",
    "\n",
    "plt.scatter(validation_errors,t_rounds)\n",
    "plt.xlabel('validation error[USD]')\n",
    "plt.ylabel('parameter: t_rounds')\n",
    "plt.title('selection of training rounds count')\n",
    "plt.xlim(display_err_min,display_err_max)\n",
    "plt.show()\n",
    "\n",
    "\n",
    "plt.scatter(validation_errors,t_subsamplings)\n",
    "plt.xlabel('validation error[USD]')\n",
    "plt.ylabel('parameter: t_subsamplings')\n",
    "plt.title('selection of t_subsamplings ')\n",
    "plt.xlim(display_err_min,display_err_max)\n",
    "plt.show()\n"
   ]
  },
  {
   "cell_type": "code",
   "execution_count": null,
   "metadata": {},
   "outputs": [],
   "source": [
    "\n",
    "pr_target_log.iloc[rows_train].values.ravel().shape"
   ]
  },
  {
   "cell_type": "code",
   "execution_count": null,
   "metadata": {},
   "outputs": [],
   "source": [
    "# Try a Neural network from Scikit-Learn "
   ]
  },
  {
   "cell_type": "code",
   "execution_count": null,
   "metadata": {},
   "outputs": [],
   "source": [
    "# there is no need for splits, as this regressor will self-validate it's score.\n",
    "grid_alpha = [0.00001,0.0001,0.001,0.01]\n",
    "grid_nn_size=[50,100,150]\n",
    "grid_nn_depth=[2,3,4,5,6,7]\n",
    "\n",
    "def layers_function(grid_nn_size,grid_nn_depth):\n",
    "    return tuple(np.int32(np.logspace(np.log10(grid_nn_size),np.log10(5.0),grid_nn_depth)))\n",
    "\n",
    "\n",
    "this_config_errors=[]\n",
    "validation_errors=[]\n",
    "t_learning_costs=[]\n",
    "worst_error_for_this_config=999999\n",
    "best_config_validation_error=np.NaN\n",
    "this_config_errors=[]\n",
    "for train_index, validation_index in rs.split(rows_train):\n",
    "    basic_nn = sklearn.neural_network.MLPRegressor(hidden_layer_sizes=(45,20,10,5),activation='logistic',alpha=0.0001,random_state=None,verbose=False,early_stopping=True,validation_fraction=0.05)\n",
    "    t0=time.perf_counter_ns()\n",
    "    basic_nn.fit(p_data.iloc[train_index],pr_target_log.iloc[train_index].values.ravel())\n",
    "    t_learning_cost=time.perf_counter_ns()-t0\n",
    "    \n",
    "    validation_prediction=basic_nn.predict(p_data.iloc[validation_index]).reshape(-1, 1)\n",
    "    validation_target_values = pr_target_log.iloc[validation_index]['SalePrice'].values.reshape(-1, 1)\n",
    "    \n",
    "    # before we can get the validation error, untransform the target\n",
    "    validation_error=np.sqrt(np.mean(np.square(pr_target_pipe.inverse_transform(validation_target_values)-pr_target_pipe.inverse_transform(validation_prediction))))    \n",
    "\n",
    "    validation_errors.append(validation_error)                \n",
    "    t_learning_costs.append(t_learning_cost)\n",
    "    #t_etas.append(local_eta)\n",
    "    #t_depths.append(local_depth)\n",
    "    #t_rounds.append(local_rounds)\n",
    "    #t_subsamplings.append(local_subsampling)\n",
    "    this_config_errors.append(validation_error)\n",
    "\n",
    "    worst_error_for_this_config=np.max(this_config_errors)\n",
    "    if worst_error_for_this_config<best_config_validation_error:\n",
    "            best_config_validation_error=worst_error_for_this_config\n",
    "        #best_depth=local_depth\n",
    "        #best_rounds=local_rounds\n",
    "        #best_eta=local_eta\n",
    "        #best_subsampling = local_subsampling\n",
    "\n",
    "\n",
    "#basic_nn = sklearn.neural_network.MLPRegressor(hidden_layer_sizes=(90,45,20,10,),activation='logistic',alpha=0.0001,random_state=None,verbose=False,early_stopping=True,validation_fraction=0.05)\n",
    "#basic_nn.fit(p_data.iloc[rows_train],pr_target_log.iloc[rows_train].values.ravel())\n",
    "min_error=np.min(validation_errors);\n",
    "max_error=np.max(validation_errors);\n",
    "mean_error=np.mean(validation_errors)\n",
    "std_error=np.std(validation_errors)\n",
    "print(f'best error(by chance): {min_error:0.2f}; best config is with max. error {best_config_validation_error:0.2f}; typical error: {mean_error:0.2f} ±{std_error:0.1f}')     \n",
    "    "
   ]
  },
  {
   "cell_type": "code",
   "execution_count": null,
   "metadata": {},
   "outputs": [],
   "source": [
    "np.array(list(t_learning_costs))*1e-9"
   ]
  },
  {
   "cell_type": "code",
   "execution_count": null,
   "metadata": {},
   "outputs": [],
   "source": [
    "np.float(np.array(t_learning_costs))"
   ]
  },
  {
   "cell_type": "code",
   "execution_count": null,
   "metadata": {},
   "outputs": [],
   "source": [
    "print(f'best error(by chance): {min_error:0.2f}; best config is with max. error {best_config_validation_error:0.2f} for depth={best_depth}, rounds={best_rounds}, eta={best_eta}, subsampling = {best_subsampling};  typical error: {mean_error:0.2f} ±{std_error:0.1f}')     "
   ]
  },
  {
   "cell_type": "code",
   "execution_count": null,
   "metadata": {},
   "outputs": [],
   "source": [
    "p_data.iloc[validation_index].shape"
   ]
  },
  {
   "cell_type": "code",
   "execution_count": null,
   "metadata": {},
   "outputs": [],
   "source": [
    "validation_prediction.shape"
   ]
  },
  {
   "cell_type": "code",
   "execution_count": null,
   "metadata": {},
   "outputs": [],
   "source": [
    "validation_target_values.shape"
   ]
  },
  {
   "cell_type": "markdown",
   "metadata": {},
   "source": [
    "# some more data engineering here, esp. to change data types and remove nans"
   ]
  },
  {
   "cell_type": "code",
   "execution_count": null,
   "metadata": {},
   "outputs": [],
   "source": [
    "np.any(np.isnan(pr_target_log.iloc[rows_train].values))"
   ]
  },
  {
   "cell_type": "code",
   "execution_count": null,
   "metadata": {},
   "outputs": [],
   "source": [
    "np.any(np.isnan(p_data.iloc[rows_train].values))"
   ]
  },
  {
   "cell_type": "code",
   "execution_count": null,
   "metadata": {},
   "outputs": [],
   "source": [
    "p_data.iloc[rows_train].values"
   ]
  },
  {
   "cell_type": "code",
   "execution_count": null,
   "metadata": {},
   "outputs": [],
   "source": []
  },
  {
   "cell_type": "code",
   "execution_count": null,
   "metadata": {},
   "outputs": [],
   "source": []
  },
  {
   "cell_type": "code",
   "execution_count": null,
   "metadata": {},
   "outputs": [],
   "source": [
    "p_data_numeric=p_data.copy()\n",
    "for idx, column in enumerate(p_data_numeric.columns):\n",
    "    nan_count = np.sum(np.isnan(p_data_numeric[column].values))\n",
    "    print(f'{idx:02d} | {column:<20} | {p_data_numeric[column].dtype} | {nan_count}')"
   ]
  },
  {
   "cell_type": "code",
   "execution_count": null,
   "metadata": {},
   "outputs": [],
   "source": []
  }
 ],
 "metadata": {
  "kernelspec": {
   "display_name": "Python 3",
   "language": "python",
   "name": "python3"
  },
  "language_info": {
   "codemirror_mode": {
    "name": "ipython",
    "version": 3
   },
   "file_extension": ".py",
   "mimetype": "text/x-python",
   "name": "python",
   "nbconvert_exporter": "python",
   "pygments_lexer": "ipython3",
   "version": "3.8.3"
  }
 },
 "nbformat": 4,
 "nbformat_minor": 4
}
